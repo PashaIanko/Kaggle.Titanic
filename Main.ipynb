{
  "nbformat": 4,
  "nbformat_minor": 0,
  "metadata": {
    "kernelspec": {
      "display_name": "Python 3",
      "language": "python",
      "name": "python3"
    },
    "language_info": {
      "codemirror_mode": {
        "name": "ipython",
        "version": 3
      },
      "file_extension": ".py",
      "mimetype": "text/x-python",
      "name": "python",
      "nbconvert_exporter": "python",
      "pygments_lexer": "ipython3",
      "version": "3.8.2"
    },
    "colab": {
      "name": "Main.ipynb",
      "provenance": [],
      "collapsed_sections": [],
      "include_colab_link": true
    }
  },
  "cells": [
    {
      "cell_type": "markdown",
      "metadata": {
        "id": "view-in-github",
        "colab_type": "text"
      },
      "source": [
        "<a href=\"https://colab.research.google.com/github/PashaIanko/Kaggle.Titanic/blob/main/Main.ipynb\" target=\"_parent\"><img src=\"https://colab.research.google.com/assets/colab-badge.svg\" alt=\"Open In Colab\"/></a>"
      ]
    },
    {
      "cell_type": "markdown",
      "metadata": {
        "id": "uS_VhDGPz7Ia"
      },
      "source": [
        "## In this notebook, I practice python with Titanic Dataset. Manual preprocessing of train and Test data (dropping, endoding categorical values, standardizing columns)\n"
      ]
    },
    {
      "cell_type": "code",
      "metadata": {
        "id": "yMQBUPWl_Xqz"
      },
      "source": [
        "import pandas as pd\n",
        "import numpy as np\n",
        "from google.colab import drive\n",
        "import seaborn as sns\n",
        "from scipy.stats import shapiro\n",
        "from sklearn.linear_model import LogisticRegression\n",
        "from sklearn.model_selection import GridSearchCV"
      ],
      "execution_count": 1,
      "outputs": []
    },
    {
      "cell_type": "markdown",
      "metadata": {
        "id": "hx0AzHki8wTZ"
      },
      "source": [
        "# Pipeline\n",
        "1. Age -> fillna() with mean\n",
        "2. Drop columns:\n",
        "  Cabin\n",
        "  Name\n",
        "  Ticket\n",
        "  PassengerId\n",
        "3. Check any Nans\n",
        "4. Encode Categorical data ('Sex' & 'Embarked')\n",
        "5. int64, float64 -> int32, float32\n",
        "6. Standardize colums:\n",
        "  Age\n",
        "7. Check the same features order in train and test sets"
      ]
    },
    {
      "cell_type": "code",
      "metadata": {
        "id": "98JLb8B7zU-g"
      },
      "source": [
        "def nan_percentage(df, colname):\n",
        "  return (df[colname].isnull().sum() / df.shape[0]) * 100\n",
        "\n",
        "def standardize_col(df, cols):\n",
        "  for col in cols:\n",
        "    df[col] = (df[col] - df[col].mean()) / df[col].std()"
      ],
      "execution_count": 2,
      "outputs": []
    },
    {
      "cell_type": "code",
      "metadata": {
        "id": "etaWbp_E76Ny"
      },
      "source": [
        "def remove_outliers(df, col):\n",
        "  Q1 = np.quantile(df[col], 0.25)\n",
        "  Q3 = np.quantile(df[col], 0.75)\n",
        "  IQR = Q3 - Q1\n",
        "\n",
        "  lower = Q1 - 1.5 * IQR\n",
        "  upper = Q3 + 1.5 * IQR\n",
        "\n",
        "  print(f'lower = {lower}, upper = {upper}, IQR = {IQR}')\n",
        "\n",
        "  # after filtering, keep only data within [lower, upper]\n",
        "  filtered_vals = [x for x in df[col] if (x > lower) & (x < upper)]\n",
        "  return df.loc[df[col].isin(filtered_vals)]"
      ],
      "execution_count": 3,
      "outputs": []
    },
    {
      "cell_type": "code",
      "metadata": {
        "colab": {
          "base_uri": "https://localhost:8080/"
        },
        "id": "VofZs32qKEFb",
        "outputId": "fea3348e-0d65-4c1a-b123-0200752dc8e3"
      },
      "source": [
        "# Setting file download from google Drive\n",
        "\n",
        "drive.mount('/content/gdrive')\n",
        "gdrive_path = '/content/gdrive/MyDrive/'\n",
        "df_path = 'ML/Datasets/1.Titanic/'\n",
        "\n",
        "train_path = gdrive_path + df_path + \"train.csv\"\n",
        "test_path =  gdrive_path + df_path + \"test.csv\""
      ],
      "execution_count": 4,
      "outputs": [
        {
          "output_type": "stream",
          "name": "stdout",
          "text": [
            "Mounted at /content/gdrive\n"
          ]
        }
      ]
    },
    {
      "cell_type": "code",
      "metadata": {
        "id": "flP8Gtq2CT-Z"
      },
      "source": [
        "train = pd.read_csv(train_path)\n",
        "test = pd.read_csv(test_path)"
      ],
      "execution_count": 5,
      "outputs": []
    },
    {
      "cell_type": "code",
      "metadata": {
        "colab": {
          "base_uri": "https://localhost:8080/"
        },
        "id": "C9x6juvwrwgp",
        "outputId": "94c7a60d-ebb3-432b-8dc9-13d791c76292"
      },
      "source": [
        "# Step 1. General Summary\n",
        "train.info(verbose=True)"
      ],
      "execution_count": 6,
      "outputs": [
        {
          "output_type": "stream",
          "name": "stdout",
          "text": [
            "<class 'pandas.core.frame.DataFrame'>\n",
            "RangeIndex: 891 entries, 0 to 890\n",
            "Data columns (total 12 columns):\n",
            " #   Column       Non-Null Count  Dtype  \n",
            "---  ------       --------------  -----  \n",
            " 0   PassengerId  891 non-null    int64  \n",
            " 1   Survived     891 non-null    int64  \n",
            " 2   Pclass       891 non-null    int64  \n",
            " 3   Name         891 non-null    object \n",
            " 4   Sex          891 non-null    object \n",
            " 5   Age          714 non-null    float64\n",
            " 6   SibSp        891 non-null    int64  \n",
            " 7   Parch        891 non-null    int64  \n",
            " 8   Ticket       891 non-null    object \n",
            " 9   Fare         891 non-null    float64\n",
            " 10  Cabin        204 non-null    object \n",
            " 11  Embarked     889 non-null    object \n",
            "dtypes: float64(2), int64(5), object(5)\n",
            "memory usage: 83.7+ KB\n"
          ]
        }
      ]
    },
    {
      "cell_type": "code",
      "metadata": {
        "colab": {
          "base_uri": "https://localhost:8080/"
        },
        "id": "QFGo37Onw7BB",
        "outputId": "06a6b05d-e3e1-42b1-b2bf-514822b95857"
      },
      "source": [
        "# Step 2. Check Nan values in any columns\n",
        "print(f'Any nan? {train.isnull().values.any()}')\n",
        "nan_cols = train.loc[:, train.isnull().any()].columns"
      ],
      "execution_count": 7,
      "outputs": [
        {
          "output_type": "stream",
          "name": "stdout",
          "text": [
            "Any nan? True\n"
          ]
        }
      ]
    },
    {
      "cell_type": "code",
      "metadata": {
        "colab": {
          "base_uri": "https://localhost:8080/"
        },
        "id": "4w44YY7tyI6P",
        "outputId": "5b5b7e83-d1a7-439f-b018-4e2221366393"
      },
      "source": [
        "for col in nan_cols:\n",
        "  print(f'Column {col} has {nan_percentage(train, col):.2f} % of Nans')"
      ],
      "execution_count": 8,
      "outputs": [
        {
          "output_type": "stream",
          "name": "stdout",
          "text": [
            "Column Age has 19.87 % of Nans\n",
            "Column Cabin has 77.10 % of Nans\n",
            "Column Embarked has 0.22 % of Nans\n"
          ]
        }
      ]
    },
    {
      "cell_type": "code",
      "metadata": {
        "id": "vyfCO-T3yUv6"
      },
      "source": [
        "# Found, that Cabin has 77% of Nans -> remove the column\n",
        "# Age -> substitute with average / median\n",
        "# Name, Ticket -> can drop the column\n",
        "train['Age'].fillna(value=train['Age'].mean(), inplace=True)\n",
        "train.drop(columns=['Cabin'], inplace=True)\n",
        "train.drop(columns = ['Name'], inplace=True)\n",
        "train.drop(columns = ['Ticket'], inplace=True)\n",
        "train.drop(columns = ['PassengerId'], inplace=True)"
      ],
      "execution_count": 9,
      "outputs": []
    },
    {
      "cell_type": "code",
      "metadata": {
        "colab": {
          "base_uri": "https://localhost:8080/",
          "height": 49
        },
        "id": "D-P233Dc04xb",
        "outputId": "b8a29acf-0640-4335-fa08-cfb5e9536d10"
      },
      "source": [
        "# Embarked - nominative variable, cannot fill with mean. \n",
        "# Remove the rows where Embarked is Nan\n",
        "train.drop(index=[61, 829], axis=1, inplace=True)\n",
        "train.loc[train['Embarked'].isnull(),]"
      ],
      "execution_count": 10,
      "outputs": [
        {
          "output_type": "execute_result",
          "data": {
            "text/html": [
              "<div>\n",
              "<style scoped>\n",
              "    .dataframe tbody tr th:only-of-type {\n",
              "        vertical-align: middle;\n",
              "    }\n",
              "\n",
              "    .dataframe tbody tr th {\n",
              "        vertical-align: top;\n",
              "    }\n",
              "\n",
              "    .dataframe thead th {\n",
              "        text-align: right;\n",
              "    }\n",
              "</style>\n",
              "<table border=\"1\" class=\"dataframe\">\n",
              "  <thead>\n",
              "    <tr style=\"text-align: right;\">\n",
              "      <th></th>\n",
              "      <th>Survived</th>\n",
              "      <th>Pclass</th>\n",
              "      <th>Sex</th>\n",
              "      <th>Age</th>\n",
              "      <th>SibSp</th>\n",
              "      <th>Parch</th>\n",
              "      <th>Fare</th>\n",
              "      <th>Embarked</th>\n",
              "    </tr>\n",
              "  </thead>\n",
              "  <tbody>\n",
              "  </tbody>\n",
              "</table>\n",
              "</div>"
            ],
            "text/plain": [
              "Empty DataFrame\n",
              "Columns: [Survived, Pclass, Sex, Age, SibSp, Parch, Fare, Embarked]\n",
              "Index: []"
            ]
          },
          "metadata": {},
          "execution_count": 10
        }
      ]
    },
    {
      "cell_type": "code",
      "metadata": {
        "colab": {
          "base_uri": "https://localhost:8080/"
        },
        "id": "nHO5BnEX8Xaq",
        "outputId": "4d4821e7-7d49-4580-f2eb-ced953412e7f"
      },
      "source": [
        "# Check, any Nans remained\n",
        "train.isnull().values.any()"
      ],
      "execution_count": 11,
      "outputs": [
        {
          "output_type": "execute_result",
          "data": {
            "text/plain": [
              "False"
            ]
          },
          "metadata": {},
          "execution_count": 11
        }
      ]
    },
    {
      "cell_type": "code",
      "metadata": {
        "colab": {
          "base_uri": "https://localhost:8080/"
        },
        "id": "mibo_GDRGY47",
        "outputId": "08825848-5863-4b7b-d21e-4a2047cf35ad"
      },
      "source": [
        "# Step 2. Encode categorical values\n",
        "# We have categorical values \"Sex\", \"Embarked\" and \"Ticket\"\n",
        "numerical_values = {\n",
        "    \"Sex\": {'male': 0, 'female': 1},\n",
        "    \"Embarked\": {'S': 0, 'C': 1, 'Q': 2},\n",
        "}\n",
        "\n",
        "train.replace(numerical_values, inplace=True)\n",
        "print(train.info())"
      ],
      "execution_count": 12,
      "outputs": [
        {
          "output_type": "stream",
          "name": "stdout",
          "text": [
            "<class 'pandas.core.frame.DataFrame'>\n",
            "Int64Index: 889 entries, 0 to 890\n",
            "Data columns (total 8 columns):\n",
            " #   Column    Non-Null Count  Dtype  \n",
            "---  ------    --------------  -----  \n",
            " 0   Survived  889 non-null    int64  \n",
            " 1   Pclass    889 non-null    int64  \n",
            " 2   Sex       889 non-null    int64  \n",
            " 3   Age       889 non-null    float64\n",
            " 4   SibSp     889 non-null    int64  \n",
            " 5   Parch     889 non-null    int64  \n",
            " 6   Fare      889 non-null    float64\n",
            " 7   Embarked  889 non-null    int64  \n",
            "dtypes: float64(2), int64(6)\n",
            "memory usage: 62.5 KB\n",
            "None\n"
          ]
        }
      ]
    },
    {
      "cell_type": "code",
      "metadata": {
        "id": "XtSPnSiS9hzr"
      },
      "source": [
        "# Step3. Int64 to Int32\n",
        "cols_to_transfer = ['Survived', 'Pclass', 'SibSp', 'Parch', 'Sex', 'Embarked']\n",
        "train[cols_to_transfer] = train[cols_to_transfer].astype('int32')"
      ],
      "execution_count": 13,
      "outputs": []
    },
    {
      "cell_type": "code",
      "metadata": {
        "id": "jaTlybF9-eVG"
      },
      "source": [
        "# Step3. Float64 to Float32\n",
        "cols_to_transfer_float = ['Age', 'Fare']\n",
        "train[cols_to_transfer_float] = train[cols_to_transfer_float].astype('float32')"
      ],
      "execution_count": 14,
      "outputs": []
    },
    {
      "cell_type": "code",
      "metadata": {
        "id": "7yEk9tAuv8DW",
        "colab": {
          "base_uri": "https://localhost:8080/"
        },
        "outputId": "da33e533-741d-4db3-bf15-e9c10fcfb49b"
      },
      "source": [
        "# Step 4. Check outliers with IQR analysis\n",
        "print(f'Before removing outliers, shape = {train.shape}')\n",
        "train = remove_outliers(train, 'Age')\n",
        "train = remove_outliers(train, 'Fare')\n",
        "print(f'After removing outliers, shape = {train.shape}')"
      ],
      "execution_count": 15,
      "outputs": [
        {
          "output_type": "stream",
          "name": "stdout",
          "text": [
            "Before removing outliers, shape = (889, 8)\n",
            "lower = 2.5, upper = 54.5, IQR = 13.0\n",
            "lower = -25.287050008773804, upper = 63.20055031776428, IQR = 22.12190008163452\n",
            "After removing outliers, shape = (718, 8)\n"
          ]
        }
      ]
    },
    {
      "cell_type": "code",
      "metadata": {
        "id": "sFlb1rgj0LP4",
        "colab": {
          "base_uri": "https://localhost:8080/",
          "height": 386
        },
        "outputId": "4f4bf5e7-6f4a-4d7c-bcfe-2c30495c7adc"
      },
      "source": [
        "# Step 5. Now we try to standartize features, which are presumably\n",
        "# from Normal distribution (check it with Shapiro-Wilk test)\n",
        "\n",
        "train['Fare'].value_counts()\n",
        "sns.displot(train, x='Fare')"
      ],
      "execution_count": 16,
      "outputs": [
        {
          "output_type": "execute_result",
          "data": {
            "text/plain": [
              "<seaborn.axisgrid.FacetGrid at 0x7fe1e40e84d0>"
            ]
          },
          "metadata": {},
          "execution_count": 16
        },
        {
          "output_type": "display_data",
          "data": {
            "image/png": "[encoded data removed]",
            "text/plain": [
              "<Figure size 360x360 with 1 Axes>"
            ]
          },
          "metadata": {
            "needs_background": "light"
          }
        }
      ]
    },
    {
      "cell_type": "code",
      "metadata": {
        "id": "5lG3YofP0obs",
        "colab": {
          "base_uri": "https://localhost:8080/",
          "height": 386
        },
        "outputId": "a532e210-38ad-4cde-d83b-255d41062037"
      },
      "source": [
        "sns.displot(train, x='Age')"
      ],
      "execution_count": 17,
      "outputs": [
        {
          "output_type": "execute_result",
          "data": {
            "text/plain": [
              "<seaborn.axisgrid.FacetGrid at 0x7fe1dad61750>"
            ]
          },
          "metadata": {},
          "execution_count": 17
        },
        {
          "output_type": "display_data",
          "data": {
            "image/png": "[encoded data removed]",
            "text/plain": [
              "<Figure size 360x360 with 1 Axes>"
            ]
          },
          "metadata": {
            "needs_background": "light"
          }
        }
      ]
    },
    {
      "cell_type": "code",
      "metadata": {
        "id": "4zDWwi3u1NPH",
        "colab": {
          "base_uri": "https://localhost:8080/"
        },
        "outputId": "cd7c80f7-5617-4fe6-9d7a-3fe4682ca9f9"
      },
      "source": [
        "# Shapiro test indicates normal dist of Age -> standardize values\n",
        "shapiro(train['Age'].values)\n",
        "standardize_col(train, ['Age'])\n",
        "train['Age']"
      ],
      "execution_count": 18,
      "outputs": [
        {
          "output_type": "execute_result",
          "data": {
            "text/plain": [
              "0     -0.644054\n",
              "2     -0.245430\n",
              "3      0.651474\n",
              "4      0.651474\n",
              "5      0.123209\n",
              "         ...   \n",
              "886   -0.145774\n",
              "887   -0.943022\n",
              "888    0.123209\n",
              "889   -0.245430\n",
              "890    0.352506\n",
              "Name: Age, Length: 718, dtype: float32"
            ]
          },
          "metadata": {},
          "execution_count": 18
        }
      ]
    },
    {
      "cell_type": "code",
      "metadata": {
        "id": "_cNBQquq3NiY",
        "colab": {
          "base_uri": "https://localhost:8080/"
        },
        "outputId": "99bd2327-05e1-4e5d-a5a7-9c64dbc6f883"
      },
      "source": [
        "# Final processed data\n",
        "train.info()"
      ],
      "execution_count": 19,
      "outputs": [
        {
          "output_type": "stream",
          "name": "stdout",
          "text": [
            "<class 'pandas.core.frame.DataFrame'>\n",
            "Int64Index: 718 entries, 0 to 890\n",
            "Data columns (total 8 columns):\n",
            " #   Column    Non-Null Count  Dtype  \n",
            "---  ------    --------------  -----  \n",
            " 0   Survived  718 non-null    int32  \n",
            " 1   Pclass    718 non-null    int32  \n",
            " 2   Sex       718 non-null    int32  \n",
            " 3   Age       718 non-null    float32\n",
            " 4   SibSp     718 non-null    int32  \n",
            " 5   Parch     718 non-null    int32  \n",
            " 6   Fare      718 non-null    float32\n",
            " 7   Embarked  718 non-null    int32  \n",
            "dtypes: float32(2), int32(6)\n",
            "memory usage: 48.0 KB\n"
          ]
        }
      ]
    },
    {
      "cell_type": "code",
      "metadata": {
        "id": "wLP8oU8b4apb"
      },
      "source": [
        "Y = train['Survived'].values\n",
        "X = train.loc[:, ['Pclass', 'Sex', 'Age', 'SibSp', 'Parch', 'Fare', 'Embarked']].values"
      ],
      "execution_count": 20,
      "outputs": []
    },
    {
      "cell_type": "code",
      "metadata": {
        "id": "ITx-zY3J5zps",
        "colab": {
          "base_uri": "https://localhost:8080/"
        },
        "outputId": "07f4b742-7132-4817-a327-28674109689d"
      },
      "source": [
        "grid = {\n",
        "    'C': [0.1, 1.0, 5.0],\n",
        "    'penalty': ['l1', 'l2']\n",
        "}\n",
        "\n",
        "# Build model.\n",
        "# 1st trial - Linear Regressor\n",
        "model_1 = LogisticRegression()\n",
        "\n",
        "logreg_cv = GridSearchCV(model_1, grid, cv=5)\n",
        "logreg_cv.fit(X, Y)"
      ],
      "execution_count": 21,
      "outputs": [
        {
          "output_type": "stream",
          "name": "stderr",
          "text": [
            "/usr/local/lib/python3.7/dist-packages/sklearn/model_selection/_validation.py:536: FitFailedWarning: Estimator fit failed. The score on this train-test partition for these parameters will be set to nan. Details: \n",
            "ValueError: Solver lbfgs supports only 'l2' or 'none' penalties, got l1 penalty.\n",
            "\n",
            "  FitFailedWarning)\n",
            "/usr/local/lib/python3.7/dist-packages/sklearn/model_selection/_validation.py:536: FitFailedWarning: Estimator fit failed. The score on this train-test partition for these parameters will be set to nan. Details: \n",
            "ValueError: Solver lbfgs supports only 'l2' or 'none' penalties, got l1 penalty.\n",
            "\n",
            "  FitFailedWarning)\n",
            "/usr/local/lib/python3.7/dist-packages/sklearn/model_selection/_validation.py:536: FitFailedWarning: Estimator fit failed. The score on this train-test partition for these parameters will be set to nan. Details: \n",
            "ValueError: Solver lbfgs supports only 'l2' or 'none' penalties, got l1 penalty.\n",
            "\n",
            "  FitFailedWarning)\n"
          ]
        },
        {
          "output_type": "execute_result",
          "data": {
            "text/plain": [
              "GridSearchCV(cv=5, error_score=nan,\n",
              "             estimator=LogisticRegression(C=1.0, class_weight=None, dual=False,\n",
              "                                          fit_intercept=True,\n",
              "                                          intercept_scaling=1, l1_ratio=None,\n",
              "                                          max_iter=100, multi_class='auto',\n",
              "                                          n_jobs=None, penalty='l2',\n",
              "                                          random_state=None, solver='lbfgs',\n",
              "                                          tol=0.0001, verbose=0,\n",
              "                                          warm_start=False),\n",
              "             iid='deprecated', n_jobs=None,\n",
              "             param_grid={'C': [0.1, 1.0, 5.0], 'penalty': ['l1', 'l2']},\n",
              "             pre_dispatch='2*n_jobs', refit=True, return_train_score=False,\n",
              "             scoring=None, verbose=0)"
            ]
          },
          "metadata": {},
          "execution_count": 21
        }
      ]
    },
    {
      "cell_type": "code",
      "metadata": {
        "id": "829eKupV6SUN",
        "colab": {
          "base_uri": "https://localhost:8080/"
        },
        "outputId": "3d982c88-feef-4ed0-88d6-1441f4bb5b8c"
      },
      "source": [
        "logreg_cv.best_params_, logreg_cv.best_score_"
      ],
      "execution_count": 22,
      "outputs": [
        {
          "output_type": "execute_result",
          "data": {
            "text/plain": [
              "({'C': 1.0, 'penalty': 'l2'}, 0.7827700077700078)"
            ]
          },
          "metadata": {},
          "execution_count": 22
        }
      ]
    },
    {
      "cell_type": "code",
      "metadata": {
        "id": "Vc8xHIS5-ZSu"
      },
      "source": [
        "# Processing of test data according to the same pipeline\n",
        "# Step 1.\n",
        "test['Age'].fillna(value=test['Age'].mean(), inplace=True)"
      ],
      "execution_count": 23,
      "outputs": []
    },
    {
      "cell_type": "code",
      "metadata": {
        "id": "SRQbHCqV-oV3"
      },
      "source": [
        "# Step 2.\n",
        "test.drop(columns=['Cabin', 'Name', 'Ticket', 'PassengerId'], inplace=True)"
      ],
      "execution_count": 24,
      "outputs": []
    },
    {
      "cell_type": "code",
      "metadata": {
        "id": "TGqLsIg5-_J1",
        "colab": {
          "base_uri": "https://localhost:8080/"
        },
        "outputId": "17bee4de-bfe6-4230-9d84-c0cdee3dda4a"
      },
      "source": [
        "# Step 3 - Check Nans\n",
        "print(test.isnull().values.any())\n",
        "for col in test.columns:\n",
        "  print(test[col].isnull().values.any(), col)\n",
        "\n",
        "nan_percentage(test, 'Fare')\n",
        "test['Fare'].fillna(value=test['Fare'].median(), inplace=True)"
      ],
      "execution_count": 25,
      "outputs": [
        {
          "output_type": "stream",
          "name": "stdout",
          "text": [
            "True\n",
            "False Pclass\n",
            "False Sex\n",
            "False Age\n",
            "False SibSp\n",
            "False Parch\n",
            "True Fare\n",
            "False Embarked\n"
          ]
        }
      ]
    },
    {
      "cell_type": "code",
      "metadata": {
        "id": "rN7DgMu-ANdG"
      },
      "source": [
        "# Step 4. Encode 'Sex' & 'Embarked'\n",
        "test.replace(numerical_values, inplace=True)"
      ],
      "execution_count": 26,
      "outputs": []
    },
    {
      "cell_type": "code",
      "metadata": {
        "id": "ICb45PRVAgTe"
      },
      "source": [
        "# Step 5. Downsize the data type\n",
        "# Step3. Int64 to Int32\n",
        "# Step3. Int64 to Int32\n",
        "cols_to_transfer = ['Pclass', 'SibSp', 'Parch', 'Sex', 'Embarked']\n",
        "test[cols_to_transfer] = test[cols_to_transfer].astype('int32')"
      ],
      "execution_count": 27,
      "outputs": []
    },
    {
      "cell_type": "code",
      "metadata": {
        "id": "TUSAVCRI_kp0",
        "colab": {
          "base_uri": "https://localhost:8080/"
        },
        "outputId": "722477d3-7d39-4f30-9f20-16400881296b"
      },
      "source": [
        "print(test.isnull().values.any())"
      ],
      "execution_count": 28,
      "outputs": [
        {
          "output_type": "stream",
          "name": "stdout",
          "text": [
            "False\n"
          ]
        }
      ]
    },
    {
      "cell_type": "code",
      "metadata": {
        "id": "KEe7-AVz_nOF"
      },
      "source": [
        "# Step 6. Standardize Age\n",
        "standardize_col(test, ['Age'])"
      ],
      "execution_count": 29,
      "outputs": []
    },
    {
      "cell_type": "code",
      "metadata": {
        "id": "tr0E7PQhADe0"
      },
      "source": [
        "X_test = test.loc[:, ['Pclass', 'Sex', 'Age', 'SibSp', 'Parch', 'Fare', 'Embarked']].values\n",
        "Y_test = logreg_cv.predict(X_test)"
      ],
      "execution_count": 30,
      "outputs": []
    },
    {
      "cell_type": "code",
      "metadata": {
        "id": "P4sH2SG3b4_L"
      },
      "source": [
        "submission = pd.read_csv(test_path)\n",
        "submission.head()\n",
        "submission.drop(columns=['Name', 'Sex', 'Age', 'SibSp', 'Parch', 'Pclass', 'Ticket', 'Fare', 'Cabin', 'Embarked'], inplace=True)"
      ],
      "execution_count": 32,
      "outputs": []
    },
    {
      "cell_type": "code",
      "metadata": {
        "id": "tFAcBsDlce9Y"
      },
      "source": [
        "submission['Survived'] = Y_test"
      ],
      "execution_count": 33,
      "outputs": []
    },
    {
      "cell_type": "code",
      "metadata": {
        "id": "hZ5MCqKVcjBV",
        "colab": {
          "base_uri": "https://localhost:8080/",
          "height": 203
        },
        "outputId": "9fb71176-a291-4e9f-9a60-1f85cb7add75"
      },
      "source": [
        "submission.head()"
      ],
      "execution_count": 34,
      "outputs": [
        {
          "output_type": "execute_result",
          "data": {
            "text/html": [
              "<div>\n",
              "<style scoped>\n",
              "    .dataframe tbody tr th:only-of-type {\n",
              "        vertical-align: middle;\n",
              "    }\n",
              "\n",
              "    .dataframe tbody tr th {\n",
              "        vertical-align: top;\n",
              "    }\n",
              "\n",
              "    .dataframe thead th {\n",
              "        text-align: right;\n",
              "    }\n",
              "</style>\n",
              "<table border=\"1\" class=\"dataframe\">\n",
              "  <thead>\n",
              "    <tr style=\"text-align: right;\">\n",
              "      <th></th>\n",
              "      <th>PassengerId</th>\n",
              "      <th>Survived</th>\n",
              "    </tr>\n",
              "  </thead>\n",
              "  <tbody>\n",
              "    <tr>\n",
              "      <th>0</th>\n",
              "      <td>892</td>\n",
              "      <td>0</td>\n",
              "    </tr>\n",
              "    <tr>\n",
              "      <th>1</th>\n",
              "      <td>893</td>\n",
              "      <td>0</td>\n",
              "    </tr>\n",
              "    <tr>\n",
              "      <th>2</th>\n",
              "      <td>894</td>\n",
              "      <td>0</td>\n",
              "    </tr>\n",
              "    <tr>\n",
              "      <th>3</th>\n",
              "      <td>895</td>\n",
              "      <td>0</td>\n",
              "    </tr>\n",
              "    <tr>\n",
              "      <th>4</th>\n",
              "      <td>896</td>\n",
              "      <td>1</td>\n",
              "    </tr>\n",
              "  </tbody>\n",
              "</table>\n",
              "</div>"
            ],
            "text/plain": [
              "   PassengerId  Survived\n",
              "0          892         0\n",
              "1          893         0\n",
              "2          894         0\n",
              "3          895         0\n",
              "4          896         1"
            ]
          },
          "metadata": {},
          "execution_count": 34
        }
      ]
    },
    {
      "cell_type": "code",
      "metadata": {
        "id": "zkTdfFS0c5pM"
      },
      "source": [
        "# Saving the submission data to csv file\n",
        "submission.to_csv(gdrive_path + df_path + \"submission.csv\", index=False)"
      ],
      "execution_count": 35,
      "outputs": []
    }
  ]
}