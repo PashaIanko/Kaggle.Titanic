{
  "nbformat": 4,
  "nbformat_minor": 0,
  "metadata": {
    "kernelspec": {
      "display_name": "Python 3",
      "language": "python",
      "name": "python3"
    },
    "language_info": {
      "codemirror_mode": {
        "name": "ipython",
        "version": 3
      },
      "file_extension": ".py",
      "mimetype": "text/x-python",
      "name": "python",
      "nbconvert_exporter": "python",
      "pygments_lexer": "ipython3",
      "version": "3.8.2"
    },
    "colab": {
      "name": "Main.ipynb",
      "provenance": [],
      "collapsed_sections": [],
      "include_colab_link": true
    }
  },
  "cells": [
    {
      "cell_type": "markdown",
      "metadata": {
        "id": "view-in-github",
        "colab_type": "text"
      },
      "source": [
        "<a href=\"https://colab.research.google.com/github/PashaIanko/Kaggle.Titanic/blob/Model-tuning/Main.ipynb\" target=\"_parent\"><img src=\"https://colab.research.google.com/assets/colab-badge.svg\" alt=\"Open In Colab\"/></a>"
      ]
    },
    {
      "cell_type": "markdown",
      "metadata": {
        "id": "paDbb_8TXST5"
      },
      "source": [
        "# **0. Packages & Functions**\n"
      ]
    },
    {
      "cell_type": "code",
      "metadata": {
        "id": "yMQBUPWl_Xqz"
      },
      "source": [
        "import pandas as pd\n",
        "import numpy as np\n",
        "from google.colab import drive\n",
        "import matplotlib.pyplot as plt\n",
        "\n",
        "import seaborn as sns\n",
        "from scipy.stats import shapiro\n",
        "\n",
        "from sklearn.linear_model import LogisticRegression\n",
        "from sklearn.model_selection import GridSearchCV\n",
        "from sklearn.compose import make_column_transformer\n",
        "from sklearn.compose import ColumnTransformer\n",
        "from sklearn.impute import KNNImputer, SimpleImputer\n",
        "from sklearn.pipeline import make_pipeline\n",
        "from sklearn.pipeline import Pipeline\n",
        "from sklearn.decomposition import PCA\n",
        "from sklearn.preprocessing import OrdinalEncoder, StandardScaler\n",
        "from sklearn.preprocessing import OneHotEncoder, MinMaxScaler, RobustScaler\n",
        "from sklearn.feature_selection import VarianceThreshold\n",
        "from sklearn.metrics import accuracy_score, f1_score\n",
        "from sklearn.model_selection import train_test_split\n",
        "from sklearn.ensemble import RandomForestClassifier\n",
        "from sklearn.metrics import classification_report, confusion_matrix\n",
        "from sklearn.svm import SVC \n",
        "\n",
        "from sklearn.model_selection import cross_val_score"
      ],
      "execution_count": 453,
      "outputs": []
    },
    {
      "cell_type": "code",
      "metadata": {
        "id": "98JLb8B7zU-g"
      },
      "source": [
        "def nan_percentage(df, colname):\n",
        "  return (df[colname].isnull().sum() / df.shape[0]) * 100\n",
        "\n",
        "def standardize_col(df, cols):\n",
        "  for col in cols:\n",
        "    df[col] = (df[col] - df[col].mean()) / df[col].std()\n",
        "\n",
        "def remove_outliers(df, col):\n",
        "  Q1 = np.quantile(df[col], 0.25)\n",
        "  Q3 = np.quantile(df[col], 0.75)\n",
        "  IQR = Q3 - Q1\n",
        "\n",
        "  lower = Q1 - 1.5 * IQR\n",
        "  upper = Q3 + 1.5 * IQR\n",
        "\n",
        "  print(f'lower = {lower}, upper = {upper}, IQR = {IQR}')\n",
        "\n",
        "  # after filtering, keep only data within [lower, upper]\n",
        "  filtered_vals = [x for x in df[col] if (x > lower) & (x < upper)]\n",
        "  return df.loc[df[col].isin(filtered_vals)]\n",
        "\n",
        "def nan_statistics(df):\n",
        "  nan_cols = df.loc[:, df.isnull().any()].columns\n",
        "  for col in nan_cols:\n",
        "    print(f'Column {col} has {nan_percentage(df, col):.2f} % of Nans')\n",
        "  print(df.isna().sum())\n",
        "\n",
        "def nans_remain(df):\n",
        "  return df.isnull().values.any()"
      ],
      "execution_count": 454,
      "outputs": []
    },
    {
      "cell_type": "markdown",
      "metadata": {
        "id": "I2kN0v7ErKT_"
      },
      "source": [
        "#**1. Concatenate train & test**"
      ]
    },
    {
      "cell_type": "code",
      "metadata": {
        "colab": {
          "base_uri": "https://localhost:8080/"
        },
        "id": "VofZs32qKEFb",
        "outputId": "1cf936ce-54eb-4859-af63-8cf1648c5e0e"
      },
      "source": [
        "# Setting file download from google Drive\n",
        "\n",
        "drive.mount('/content/gdrive')\n",
        "gdrive_path = '/content/gdrive/MyDrive/'\n",
        "df_path = 'ML/Datasets/1.Titanic/'\n",
        "\n",
        "train_path = gdrive_path + df_path + \"train.csv\"\n",
        "test_path =  gdrive_path + df_path + \"test.csv\""
      ],
      "execution_count": 455,
      "outputs": [
        {
          "output_type": "stream",
          "name": "stdout",
          "text": [
            "Drive already mounted at /content/gdrive; to attempt to forcibly remount, call drive.mount(\"/content/gdrive\", force_remount=True).\n"
          ]
        }
      ]
    },
    {
      "cell_type": "code",
      "metadata": {
        "id": "flP8Gtq2CT-Z"
      },
      "source": [
        "train = pd.read_csv(train_path, index_col='PassengerId')\n",
        "test = pd.read_csv(test_path, index_col='PassengerId')\n",
        "df_whole = pd.concat([train, test], sort=True)"
      ],
      "execution_count": 456,
      "outputs": []
    },
    {
      "cell_type": "markdown",
      "metadata": {
        "id": "ExQFcFb2rQ40"
      },
      "source": [
        "#**2. Feature Exploration ('Cabin', 'Parch')**"
      ]
    },
    {
      "cell_type": "code",
      "metadata": {
        "colab": {
          "base_uri": "https://localhost:8080/"
        },
        "id": "C9x6juvwrwgp",
        "outputId": "ea6edb8c-9a39-46c6-befe-58aec404bf6e"
      },
      "source": [
        "# Step 1. General Summary\n",
        "df_whole.info(verbose=True)"
      ],
      "execution_count": 457,
      "outputs": [
        {
          "output_type": "stream",
          "name": "stdout",
          "text": [
            "<class 'pandas.core.frame.DataFrame'>\n",
            "Int64Index: 1309 entries, 1 to 1309\n",
            "Data columns (total 11 columns):\n",
            " #   Column    Non-Null Count  Dtype  \n",
            "---  ------    --------------  -----  \n",
            " 0   Age       1046 non-null   float64\n",
            " 1   Cabin     295 non-null    object \n",
            " 2   Embarked  1307 non-null   object \n",
            " 3   Fare      1308 non-null   float64\n",
            " 4   Name      1309 non-null   object \n",
            " 5   Parch     1309 non-null   int64  \n",
            " 6   Pclass    1309 non-null   int64  \n",
            " 7   Sex       1309 non-null   object \n",
            " 8   SibSp     1309 non-null   int64  \n",
            " 9   Survived  891 non-null    float64\n",
            " 10  Ticket    1309 non-null   object \n",
            "dtypes: float64(3), int64(3), object(5)\n",
            "memory usage: 122.7+ KB\n"
          ]
        }
      ]
    },
    {
      "cell_type": "code",
      "metadata": {
        "id": "0ypiEJZpTK4e",
        "colab": {
          "base_uri": "https://localhost:8080/"
        },
        "outputId": "f851dbef-fad9-4831-a7c8-44748821ee84"
      },
      "source": [
        "nan_statistics(df_whole)"
      ],
      "execution_count": 458,
      "outputs": [
        {
          "output_type": "stream",
          "name": "stdout",
          "text": [
            "Column Age has 20.09 % of Nans\n",
            "Column Cabin has 77.46 % of Nans\n",
            "Column Embarked has 0.15 % of Nans\n",
            "Column Fare has 0.08 % of Nans\n",
            "Column Survived has 31.93 % of Nans\n",
            "Age          263\n",
            "Cabin       1014\n",
            "Embarked       2\n",
            "Fare           1\n",
            "Name           0\n",
            "Parch          0\n",
            "Pclass         0\n",
            "Sex            0\n",
            "SibSp          0\n",
            "Survived     418\n",
            "Ticket         0\n",
            "dtype: int64\n"
          ]
        }
      ]
    },
    {
      "cell_type": "code",
      "metadata": {
        "id": "JbJanm7ebM9_"
      },
      "source": [
        "# Age -> substitute with average / median\n",
        "# Embarked -> substitute column (depends on significancy)\n",
        "# Name, Ticket -> can drop the column\n",
        "\n",
        "# 'Embarked' feature has two Nans -> Mrs.George Nelson & Amelie Icard\n",
        "# embarked in Southampton -> substitute with S\n",
        "\n",
        "df_whole['Embarked'] = df_whole['Embarked'].fillna('S')\n",
        "Cabins = df_whole.loc[:, 'Cabin']\n",
        "Cabins.fillna('M', inplace=True)\n",
        "\n",
        "# Leave only names of the Cabin sections\n",
        "Cabins = Cabins.str.slice(0, 1)\n",
        "Cabins.value_counts()\n",
        "df_whole['Cabin'] = Cabins.values"
      ],
      "execution_count": 459,
      "outputs": []
    },
    {
      "cell_type": "code",
      "metadata": {
        "colab": {
          "base_uri": "https://localhost:8080/",
          "height": 299
        },
        "id": "v2jPvgaFfT2C",
        "outputId": "c0dae38a-2a95-40a1-93ad-5149fdef6bf2"
      },
      "source": [
        "survived = df_whole[df_whole['Survived'] == 1]\n",
        "died = df_whole[df_whole['Survived'] == 0]\n",
        "sns.countplot(x = 'Cabin', data=survived)\n",
        "sns.countplot(x='Cabin', data=died)"
      ],
      "execution_count": 460,
      "outputs": [
        {
          "output_type": "execute_result",
          "data": {
            "text/plain": [
              "<matplotlib.axes._subplots.AxesSubplot at 0x7fa46c271c90>"
            ]
          },
          "metadata": {},
          "execution_count": 460
        },
        {
          "output_type": "display_data",
          "data": {
            "image/png": "[encoded data removed]",
            "text/plain": [
              "<Figure size 432x288 with 1 Axes>"
            ]
          },
          "metadata": {
            "needs_background": "light"
          }
        }
      ]
    },
    {
      "cell_type": "code",
      "metadata": {
        "colab": {
          "base_uri": "https://localhost:8080/",
          "height": 1000
        },
        "id": "PsEyVm7EkR0C",
        "outputId": "1495f0df-b8ef-4848-bbaa-49db5fb697f5"
      },
      "source": [
        "cat_features = ['Embarked', 'Parch', 'Pclass', 'Sex', 'SibSp', 'Cabin']\n",
        "\n",
        "fig, axs = plt.subplots(ncols=2, nrows=3, figsize=(20, 20))\n",
        "plt.subplots_adjust(right=1.5, top=1.25)\n",
        "\n",
        "for i, feature in enumerate(cat_features, 1):    \n",
        "    plt.subplot(2, 3, i)\n",
        "    sns.countplot(x=feature, hue='Survived', data=df_whole)\n",
        "    \n",
        "    plt.xlabel('{}'.format(feature), size=20, labelpad=15)\n",
        "    plt.ylabel('Passenger Count', size=20, labelpad=15)    \n",
        "    plt.tick_params(axis='x', labelsize=20)\n",
        "    plt.tick_params(axis='y', labelsize=20)\n",
        "    \n",
        "    plt.legend(['Not Survived', 'Survived'], loc='upper center', prop={'size': 18})\n",
        "    plt.title('Count of Survival in {} Feature'.format(feature), size=20, y=1.05)\n",
        "\n",
        "plt.show()"
      ],
      "execution_count": 461,
      "outputs": [
        {
          "output_type": "display_data",
          "data": {
            "image/png": "[encoded data removed]",
            "text/plain": [
              "<Figure size 1440x1440 with 6 Axes>"
            ]
          },
          "metadata": {
            "needs_background": "light"
          }
        }
      ]
    },
    {
      "cell_type": "code",
      "metadata": {
        "id": "5lG3YofP0obs",
        "colab": {
          "base_uri": "https://localhost:8080/",
          "height": 387
        },
        "outputId": "bb3a9e04-8dc7-44cd-c1f6-be2bd53e7bb3"
      },
      "source": [
        "# Shapiro-Wilk test indicates, that 'Age' feature\n",
        "# is from normal distr`ibution -> we will use z-standartization\n",
        "# for this feature\n",
        "sns.displot(df_whole, x='Age')"
      ],
      "execution_count": 462,
      "outputs": [
        {
          "output_type": "execute_result",
          "data": {
            "text/plain": [
              "<seaborn.axisgrid.FacetGrid at 0x7fa46c271790>"
            ]
          },
          "metadata": {},
          "execution_count": 462
        },
        {
          "output_type": "display_data",
          "data": {
            "image/png": "[encoded data removed]",
            "text/plain": [
              "<Figure size 360x360 with 1 Axes>"
            ]
          },
          "metadata": {
            "needs_background": "light"
          }
        }
      ]
    },
    {
      "cell_type": "code",
      "metadata": {
        "colab": {
          "base_uri": "https://localhost:8080/",
          "height": 387
        },
        "id": "KzDfLDXwxf7s",
        "outputId": "3f2581b9-2cf6-429d-91ef-410eb0909096"
      },
      "source": [
        "sns.displot(df_whole, x='Fare')"
      ],
      "execution_count": 463,
      "outputs": [
        {
          "output_type": "execute_result",
          "data": {
            "text/plain": [
              "<seaborn.axisgrid.FacetGrid at 0x7fa468892690>"
            ]
          },
          "metadata": {},
          "execution_count": 463
        },
        {
          "output_type": "display_data",
          "data": {
            "image/png": "[encoded data removed]",
            "text/plain": [
              "<Figure size 360x360 with 1 Axes>"
            ]
          },
          "metadata": {
            "needs_background": "light"
          }
        }
      ]
    },
    {
      "cell_type": "markdown",
      "metadata": {
        "id": "HXM0mIHylt6U"
      },
      "source": [
        "#**3. Feature generation conclusions**\n",
        "1. We can regroup the SibSp & Parch feature on low, medium, high\n",
        "2. Regroup Cabin column on BD, GFT, AE, C, M\n",
        "3. Remove 'Ticket' and 'Name' Column\n",
        "4. Standard-scale the 'age' column\n",
        "5. Add Family size feature\n",
        "6. Add Title feature\n"
      ]
    },
    {
      "cell_type": "code",
      "metadata": {
        "id": "ytj7UwORm-A3"
      },
      "source": [
        "# Replace Cabin feature\n",
        "df_whole['Cabin'].replace(['B', 'D'], 'BD', inplace=True)\n",
        "df_whole['Cabin'].replace(['F', 'G', 'T'], 'FGT', inplace=True)\n",
        "df_whole['Cabin'].replace(['A', 'E'], 'AE', inplace=True)"
      ],
      "execution_count": 464,
      "outputs": []
    },
    {
      "cell_type": "code",
      "metadata": {
        "id": "FX_oB1jknmU8"
      },
      "source": [
        "# Add Family Size feature\n",
        "df_whole['FamilySize'] = df_whole['SibSp'] + df_whole['Parch'] + 1\n",
        "\n",
        "# Small, Big family feature\n",
        "df_whole['SmallFamily'] = df_whole['FamilySize'].map(lambda size: 1 if 2 <= size < 4 else 0)\n",
        "df_whole['BigFamily'] = df_whole['FamilySize'].map(lambda size: 1 if size >= 4 else 0)\n",
        "\n",
        "# Replace Family feature\n",
        "df_whole['SibSp'].replace([0, 1], 'high', inplace=True)\n",
        "df_whole['SibSp'].replace([2, 3, 4, 5, 6, 8], 'low', inplace=True)\n",
        "\n",
        "df_whole['Parch'].replace([0], 'low', inplace=True)\n",
        "df_whole['Parch'].replace([1, 2], 'middle', inplace=True)\n",
        "df_whole['Parch'].replace([3, 4, 5, 6, 9], 'high', inplace=True)\n",
        "\n",
        "# Title feature\n",
        "titles_dict = {\n",
        "    \"Capt\": \"Officer\",\n",
        "    \"Col\": \"Officer\",\n",
        "    \"Major\": \"Officer\",\n",
        "    \"Jonkheer\": \"Royalty\",\n",
        "    \"Don\": \"Royalty\",\n",
        "    \"Sir\": \"Royalty\",\n",
        "    \"Dr\": \"Officer\",\n",
        "    \"Rev\": \"Officer\",\n",
        "    \"the Countess\": \"Royalty\",\n",
        "    \"Mme\": \"Mrs\",\n",
        "    \"Mlle\": 'Miss',\n",
        "    \"Ms\": \"Mrs\",\n",
        "    \"Mr\": \"Mr\",\n",
        "    \"Mrs\": \"Mrs\",\n",
        "    \"Miss\": \"Miss\",\n",
        "    \"Master\": \"Master\",\n",
        "    \"Lady\": \"Royalty\"\n",
        "}\n",
        "\n",
        "df_whole['Title'] = df_whole['Name'].map(lambda name: name.split(',')[1].split('.')[0].strip())\n",
        "df_whole['Title'] = df_whole['Title'].map(titles_dict)\n",
        "df_whole['Title'].fillna('Mr', inplace=True)\n"
      ],
      "execution_count": 465,
      "outputs": []
    },
    {
      "cell_type": "code",
      "metadata": {
        "id": "iY-z8P78uQip"
      },
      "source": [
        "# Drop Ticket and Name columns\n",
        "df_whole.drop(columns=['Ticket', 'Name'], inplace=True, axis=0)"
      ],
      "execution_count": 466,
      "outputs": []
    },
    {
      "cell_type": "markdown",
      "metadata": {
        "id": "AHTweSlXuRMN"
      },
      "source": [
        "# **4. Splitting whole dataset (Train, Validation, Test)**"
      ]
    },
    {
      "cell_type": "code",
      "metadata": {
        "id": "ru7WZ7FducWM",
        "colab": {
          "base_uri": "https://localhost:8080/"
        },
        "outputId": "0eb92da3-d77d-4322-fb21-ba60a26d30a2"
      },
      "source": [
        "df_train = df_whole.loc[1:891]\n",
        "df_test = df_whole.loc[892:]\n",
        "df_test.drop(columns = ['Survived'], inplace=True)"
      ],
      "execution_count": 467,
      "outputs": [
        {
          "output_type": "stream",
          "name": "stderr",
          "text": [
            "/usr/local/lib/python3.7/dist-packages/pandas/core/frame.py:4174: SettingWithCopyWarning: \n",
            "A value is trying to be set on a copy of a slice from a DataFrame\n",
            "\n",
            "See the caveats in the documentation: https://pandas.pydata.org/pandas-docs/stable/user_guide/indexing.html#returning-a-view-versus-a-copy\n",
            "  errors=errors,\n"
          ]
        }
      ]
    },
    {
      "cell_type": "code",
      "metadata": {
        "id": "_TUakJeo9GXQ"
      },
      "source": [
        "\n",
        "X = df_train.drop('Survived', axis=1)\n",
        "Y = df_train['Survived']\n",
        "\n",
        "seed = 42\n",
        "X_train, X_val, Y_train, Y_val = train_test_split(X, Y, test_size=0.2, \n",
        "                                                    random_state=seed,\n",
        "                                                    stratify=Y,\n",
        "                                                    shuffle=True)"
      ],
      "execution_count": 468,
      "outputs": []
    },
    {
      "cell_type": "markdown",
      "metadata": {
        "id": "PT-7W7XlhFZr"
      },
      "source": [
        "# **5. Preprocessing Pipeline & Model Selection**"
      ]
    },
    {
      "cell_type": "code",
      "metadata": {
        "id": "ViwwTzxW6o38"
      },
      "source": [
        "str_cat_features = ['Cabin', 'Embarked', 'Parch', 'Sex', 'SibSp', 'Title']\n",
        "str_cat_transformers = Pipeline(\n",
        "    steps = [\n",
        "             ('imputer', SimpleImputer(strategy='most_frequent')),\n",
        "             ('one-hot', OneHotEncoder(handle_unknown='ignore'))\n",
        "    ]\n",
        ")\n",
        "\n",
        "int_cat_features = ['Pclass', 'FamilySize', 'SmallFamily', 'BigFamily']\n",
        "int_cat_transformers = Pipeline(\n",
        "    steps = [\n",
        "             ('imputer', SimpleImputer(strategy='most_frequent'))\n",
        "    ]\n",
        ")\n",
        "\n",
        "num_features = ['Age', 'Fare']\n",
        "num_transformers = Pipeline(\n",
        "    steps = [\n",
        "             ('imputer', SimpleImputer()),\n",
        "             ('scaler', StandardScaler())\n",
        "    ]\n",
        ")"
      ],
      "execution_count": 473,
      "outputs": []
    },
    {
      "cell_type": "code",
      "metadata": {
        "id": "cvR1bFcA8E-c"
      },
      "source": [
        "def build_pipe(model):\n",
        "  preprocess = ColumnTransformer(\n",
        "      transformers = [\n",
        "                      ('int_cat', int_cat_transformers, int_cat_features),\n",
        "                      ('str_cat', str_cat_transformers, str_cat_features),\n",
        "                      ('num', num_transformers, num_features)\n",
        "      ]\n",
        "  )\n",
        "\n",
        "  pipe = Pipeline(\n",
        "      steps = [\n",
        "               ('preprocessing', preprocess),\n",
        "               ('modeling', model)\n",
        "      ]\n",
        "  )\n",
        "  return pipe"
      ],
      "execution_count": 474,
      "outputs": []
    },
    {
      "cell_type": "code",
      "metadata": {
        "id": "1sSCVEi0-Y0y",
        "outputId": "037bba8f-46e2-458d-fe8d-8e9dcb0479aa",
        "colab": {
          "base_uri": "https://localhost:8080/"
        }
      },
      "source": [
        "models = [\n",
        "          ('RandomForest', RandomForestClassifier()),\n",
        "          ('LogRegression', LogisticRegression()),\n",
        "          ('SVC', SVC())\n",
        "]\n",
        "\n",
        "for name, model in models:\n",
        "  model_pipeline = build_pipe(model)\n",
        "  cv_scores = cross_val_score(model_pipeline, X_train, Y_train)\n",
        "  print(cv_scores.mean())"
      ],
      "execution_count": 475,
      "outputs": [
        {
          "output_type": "stream",
          "name": "stdout",
          "text": [
            "0.7993105486063232\n",
            "0.8090515118684133\n",
            "0.8230769230769232\n"
          ]
        }
      ]
    },
    {
      "cell_type": "markdown",
      "metadata": {
        "id": "L3BXxuN1_g0C"
      },
      "source": [
        "# **6. Model Fine-Tuning & Final Model Selection**"
      ]
    },
    {
      "cell_type": "code",
      "metadata": {
        "id": "iFwUMk2QAR0U",
        "colab": {
          "base_uri": "https://localhost:8080/"
        },
        "outputId": "4d436460-fd56-4c3d-e370-904f38dc18eb"
      },
      "source": [
        "models = [\n",
        "          ('RandomForest',             \n",
        "           RandomForestClassifier(),\n",
        "            {\n",
        "               'modeling__n_estimators': [500, 600],\n",
        "               'modeling__max_depth': [20, 25],\n",
        "               'modeling__min_samples_leaf': [2, 1],\n",
        "               'modeling__random_state': [42],\n",
        "               'modeling__max_samples': [0.6, 0.9]\n",
        "            }),\n",
        "          (\n",
        "            'LogRegression',\n",
        "            LogisticRegression(),\n",
        "           {\n",
        "               'modeling__C': [1, 5, 10]\n",
        "           } \n",
        "          ),\n",
        "          (\n",
        "            'SVC',\n",
        "            SVC(),\n",
        "           {\n",
        "               'modeling__C': [1, 5, 10]\n",
        "           }\n",
        "          )\n",
        "]\n",
        "\n",
        "fine_tuning_res = {}\n",
        "for name, model, param_grid in models:\n",
        "  pipe = build_pipe(model)\n",
        "  gs = GridSearchCV(pipe, param_grid)\n",
        "  gs.fit(X_train, Y_train)\n",
        "  print(f'Model: {name}, bestscore: {gs.best_score_}')\n",
        "  fine_tuning_res[name] = gs"
      ],
      "execution_count": 478,
      "outputs": [
        {
          "output_type": "stream",
          "name": "stdout",
          "text": [
            "Model: RandomForest, bestscore: 0.8301388752092977\n"
          ]
        },
        {
          "output_type": "stream",
          "name": "stderr",
          "text": [
            "/usr/local/lib/python3.7/dist-packages/sklearn/linear_model/_logistic.py:940: ConvergenceWarning: lbfgs failed to converge (status=1):\n",
            "STOP: TOTAL NO. of ITERATIONS REACHED LIMIT.\n",
            "\n",
            "Increase the number of iterations (max_iter) or scale the data as shown in:\n",
            "    https://scikit-learn.org/stable/modules/preprocessing.html\n",
            "Please also refer to the documentation for alternative solver options:\n",
            "    https://scikit-learn.org/stable/modules/linear_model.html#logistic-regression\n",
            "  extra_warning_msg=_LOGISTIC_SOLVER_CONVERGENCE_MSG)\n",
            "/usr/local/lib/python3.7/dist-packages/sklearn/linear_model/_logistic.py:940: ConvergenceWarning: lbfgs failed to converge (status=1):\n",
            "STOP: TOTAL NO. of ITERATIONS REACHED LIMIT.\n",
            "\n",
            "Increase the number of iterations (max_iter) or scale the data as shown in:\n",
            "    https://scikit-learn.org/stable/modules/preprocessing.html\n",
            "Please also refer to the documentation for alternative solver options:\n",
            "    https://scikit-learn.org/stable/modules/linear_model.html#logistic-regression\n",
            "  extra_warning_msg=_LOGISTIC_SOLVER_CONVERGENCE_MSG)\n",
            "/usr/local/lib/python3.7/dist-packages/sklearn/linear_model/_logistic.py:940: ConvergenceWarning: lbfgs failed to converge (status=1):\n",
            "STOP: TOTAL NO. of ITERATIONS REACHED LIMIT.\n",
            "\n",
            "Increase the number of iterations (max_iter) or scale the data as shown in:\n",
            "    https://scikit-learn.org/stable/modules/preprocessing.html\n",
            "Please also refer to the documentation for alternative solver options:\n",
            "    https://scikit-learn.org/stable/modules/linear_model.html#logistic-regression\n",
            "  extra_warning_msg=_LOGISTIC_SOLVER_CONVERGENCE_MSG)\n",
            "/usr/local/lib/python3.7/dist-packages/sklearn/linear_model/_logistic.py:940: ConvergenceWarning: lbfgs failed to converge (status=1):\n",
            "STOP: TOTAL NO. of ITERATIONS REACHED LIMIT.\n",
            "\n",
            "Increase the number of iterations (max_iter) or scale the data as shown in:\n",
            "    https://scikit-learn.org/stable/modules/preprocessing.html\n",
            "Please also refer to the documentation for alternative solver options:\n",
            "    https://scikit-learn.org/stable/modules/linear_model.html#logistic-regression\n",
            "  extra_warning_msg=_LOGISTIC_SOLVER_CONVERGENCE_MSG)\n",
            "/usr/local/lib/python3.7/dist-packages/sklearn/linear_model/_logistic.py:940: ConvergenceWarning: lbfgs failed to converge (status=1):\n",
            "STOP: TOTAL NO. of ITERATIONS REACHED LIMIT.\n",
            "\n",
            "Increase the number of iterations (max_iter) or scale the data as shown in:\n",
            "    https://scikit-learn.org/stable/modules/preprocessing.html\n",
            "Please also refer to the documentation for alternative solver options:\n",
            "    https://scikit-learn.org/stable/modules/linear_model.html#logistic-regression\n",
            "  extra_warning_msg=_LOGISTIC_SOLVER_CONVERGENCE_MSG)\n",
            "/usr/local/lib/python3.7/dist-packages/sklearn/linear_model/_logistic.py:940: ConvergenceWarning: lbfgs failed to converge (status=1):\n",
            "STOP: TOTAL NO. of ITERATIONS REACHED LIMIT.\n",
            "\n",
            "Increase the number of iterations (max_iter) or scale the data as shown in:\n",
            "    https://scikit-learn.org/stable/modules/preprocessing.html\n",
            "Please also refer to the documentation for alternative solver options:\n",
            "    https://scikit-learn.org/stable/modules/linear_model.html#logistic-regression\n",
            "  extra_warning_msg=_LOGISTIC_SOLVER_CONVERGENCE_MSG)\n",
            "/usr/local/lib/python3.7/dist-packages/sklearn/linear_model/_logistic.py:940: ConvergenceWarning: lbfgs failed to converge (status=1):\n",
            "STOP: TOTAL NO. of ITERATIONS REACHED LIMIT.\n",
            "\n",
            "Increase the number of iterations (max_iter) or scale the data as shown in:\n",
            "    https://scikit-learn.org/stable/modules/preprocessing.html\n",
            "Please also refer to the documentation for alternative solver options:\n",
            "    https://scikit-learn.org/stable/modules/linear_model.html#logistic-regression\n",
            "  extra_warning_msg=_LOGISTIC_SOLVER_CONVERGENCE_MSG)\n",
            "/usr/local/lib/python3.7/dist-packages/sklearn/linear_model/_logistic.py:940: ConvergenceWarning: lbfgs failed to converge (status=1):\n",
            "STOP: TOTAL NO. of ITERATIONS REACHED LIMIT.\n",
            "\n",
            "Increase the number of iterations (max_iter) or scale the data as shown in:\n",
            "    https://scikit-learn.org/stable/modules/preprocessing.html\n",
            "Please also refer to the documentation for alternative solver options:\n",
            "    https://scikit-learn.org/stable/modules/linear_model.html#logistic-regression\n",
            "  extra_warning_msg=_LOGISTIC_SOLVER_CONVERGENCE_MSG)\n",
            "/usr/local/lib/python3.7/dist-packages/sklearn/linear_model/_logistic.py:940: ConvergenceWarning: lbfgs failed to converge (status=1):\n",
            "STOP: TOTAL NO. of ITERATIONS REACHED LIMIT.\n",
            "\n",
            "Increase the number of iterations (max_iter) or scale the data as shown in:\n",
            "    https://scikit-learn.org/stable/modules/preprocessing.html\n",
            "Please also refer to the documentation for alternative solver options:\n",
            "    https://scikit-learn.org/stable/modules/linear_model.html#logistic-regression\n",
            "  extra_warning_msg=_LOGISTIC_SOLVER_CONVERGENCE_MSG)\n",
            "/usr/local/lib/python3.7/dist-packages/sklearn/linear_model/_logistic.py:940: ConvergenceWarning: lbfgs failed to converge (status=1):\n",
            "STOP: TOTAL NO. of ITERATIONS REACHED LIMIT.\n",
            "\n",
            "Increase the number of iterations (max_iter) or scale the data as shown in:\n",
            "    https://scikit-learn.org/stable/modules/preprocessing.html\n",
            "Please also refer to the documentation for alternative solver options:\n",
            "    https://scikit-learn.org/stable/modules/linear_model.html#logistic-regression\n",
            "  extra_warning_msg=_LOGISTIC_SOLVER_CONVERGENCE_MSG)\n"
          ]
        },
        {
          "output_type": "stream",
          "name": "stdout",
          "text": [
            "Model: LogRegression, bestscore: 0.8090515118684133\n",
            "Model: SVC, bestscore: 0.8230769230769232\n"
          ]
        }
      ]
    },
    {
      "cell_type": "code",
      "metadata": {
        "id": "zM0xpQRXBxBO",
        "outputId": "e05a694c-448f-4725-c94e-25733ebfbfe3",
        "colab": {
          "base_uri": "https://localhost:8080/"
        }
      },
      "source": [
        "final_model = fine_tuning_res['RandomForest'].best_estimator_\n",
        "final_model.fit(X_train, Y_train)"
      ],
      "execution_count": 479,
      "outputs": [
        {
          "output_type": "execute_result",
          "data": {
            "text/plain": [
              "Pipeline(memory=None,\n",
              "         steps=[('preprocessing',\n",
              "                 ColumnTransformer(n_jobs=None, remainder='drop',\n",
              "                                   sparse_threshold=0.3,\n",
              "                                   transformer_weights=None,\n",
              "                                   transformers=[('int_cat',\n",
              "                                                  Pipeline(memory=None,\n",
              "                                                           steps=[('imputer',\n",
              "                                                                   SimpleImputer(add_indicator=False,\n",
              "                                                                                 copy=True,\n",
              "                                                                                 fill_value=None,\n",
              "                                                                                 missing_values=nan,\n",
              "                                                                                 strategy='most_frequent',\n",
              "                                                                                 verbose=0))],\n",
              "                                                           verbose=False),\n",
              "                                                  ['Pclass', 'Famil...\n",
              "                 RandomForestClassifier(bootstrap=True, ccp_alpha=0.0,\n",
              "                                        class_weight=None, criterion='gini',\n",
              "                                        max_depth=20, max_features='auto',\n",
              "                                        max_leaf_nodes=None, max_samples=0.9,\n",
              "                                        min_impurity_decrease=0.0,\n",
              "                                        min_impurity_split=None,\n",
              "                                        min_samples_leaf=2, min_samples_split=2,\n",
              "                                        min_weight_fraction_leaf=0.0,\n",
              "                                        n_estimators=600, n_jobs=None,\n",
              "                                        oob_score=False, random_state=42,\n",
              "                                        verbose=0, warm_start=False))],\n",
              "         verbose=False)"
            ]
          },
          "metadata": {},
          "execution_count": 479
        }
      ]
    },
    {
      "cell_type": "code",
      "metadata": {
        "id": "BMgv_ILIhjm-",
        "colab": {
          "base_uri": "https://localhost:8080/"
        },
        "outputId": "05233666-49eb-49dd-8b4f-1edcbb6032cc"
      },
      "source": [
        "fine_tuning_res['RandomForest'].best_score_"
      ],
      "execution_count": 487,
      "outputs": [
        {
          "output_type": "execute_result",
          "data": {
            "text/plain": [
              "0.8301388752092977"
            ]
          },
          "metadata": {},
          "execution_count": 487
        }
      ]
    },
    {
      "cell_type": "code",
      "metadata": {
        "id": "MVo13K0kmHqy",
        "colab": {
          "base_uri": "https://localhost:8080/"
        },
        "outputId": "b0345d5f-b901-41ac-db5d-7bdfb524693d"
      },
      "source": [
        "# Print Feature importances\n",
        "for name, score in sorted(\n",
        "    zip(X_train.columns, \n",
        "        final_model[1].feature_importances_), \n",
        "        key=lambda x: -x[1]):\n",
        "  print(name, score)"
      ],
      "execution_count": 491,
      "outputs": [
        {
          "output_type": "stream",
          "name": "stdout",
          "text": [
            "Age 0.07167520865884303\n",
            "FamilySize 0.048652777167594106\n",
            "Cabin 0.045147346283792904\n",
            "Embarked 0.016246504940225157\n",
            "Title 0.014878326997632087\n",
            "SmallFamily 0.01143525344385139\n",
            "Pclass 0.00964453676370937\n",
            "Fare 0.009429152533292707\n",
            "Parch 0.008216165656911708\n",
            "BigFamily 0.007080134411025523\n",
            "Sex 0.005989875553412591\n",
            "SibSp 0.0017701332016050084\n"
          ]
        }
      ]
    },
    {
      "cell_type": "markdown",
      "metadata": {
        "id": "OIIcLR8PhDIu"
      },
      "source": [
        "# **6. Validation Results**"
      ]
    },
    {
      "cell_type": "code",
      "metadata": {
        "id": "u6KUC08LhUxi",
        "colab": {
          "base_uri": "https://localhost:8080/"
        },
        "outputId": "9c694f7c-feed-4ef9-8ba5-b29df25943dd"
      },
      "source": [
        "validation_res = final_model.predict(X_val)\n",
        "print(confusion_matrix(Y_val, validation_res))\n",
        "print(classification_report(Y_val, validation_res))"
      ],
      "execution_count": 483,
      "outputs": [
        {
          "output_type": "stream",
          "name": "stdout",
          "text": [
            "[[97 13]\n",
            " [22 47]]\n",
            "              precision    recall  f1-score   support\n",
            "\n",
            "         0.0       0.82      0.88      0.85       110\n",
            "         1.0       0.78      0.68      0.73        69\n",
            "\n",
            "    accuracy                           0.80       179\n",
            "   macro avg       0.80      0.78      0.79       179\n",
            "weighted avg       0.80      0.80      0.80       179\n",
            "\n"
          ]
        }
      ]
    },
    {
      "cell_type": "code",
      "metadata": {
        "id": "yAjgUuthiLzn",
        "colab": {
          "base_uri": "https://localhost:8080/"
        },
        "outputId": "b09db265-d062-4f94-9568-597d3c4e7173"
      },
      "source": [
        "validation_accuracy = accuracy_score(Y_val, validation_res)\n",
        "validation_accuracy"
      ],
      "execution_count": 484,
      "outputs": [
        {
          "output_type": "execute_result",
          "data": {
            "text/plain": [
              "0.8044692737430168"
            ]
          },
          "metadata": {},
          "execution_count": 484
        }
      ]
    },
    {
      "cell_type": "markdown",
      "metadata": {
        "id": "cvYZoqlyi5KN"
      },
      "source": [
        "# **7. Results submission**"
      ]
    },
    {
      "cell_type": "code",
      "metadata": {
        "id": "cROR79YkEIe4"
      },
      "source": [
        "pred = final_model.predict(df_test).astype('int')"
      ],
      "execution_count": 485,
      "outputs": []
    },
    {
      "cell_type": "code",
      "metadata": {
        "id": "zkTdfFS0c5pM"
      },
      "source": [
        "# Saving the submission data to csv file\n",
        "submission = pd.DataFrame({\n",
        "    'PassengerId': df_test.index,\n",
        "    'Survived': pred\n",
        "})\n",
        "submission.to_csv(gdrive_path + df_path + \"submission.csv\", index=False)"
      ],
      "execution_count": 486,
      "outputs": []
    }
  ]
}